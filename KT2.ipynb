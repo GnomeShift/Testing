{
 "cells": [
  {
   "metadata": {},
   "cell_type": "markdown",
   "source": "## Импорты",
   "id": "d1800fe315e1fdd7"
  },
  {
   "cell_type": "code",
   "id": "initial_id",
   "metadata": {
    "collapsed": true,
    "ExecuteTime": {
     "end_time": "2024-10-19T14:41:50.776168Z",
     "start_time": "2024-10-19T14:41:50.772750Z"
    }
   },
   "source": [
    "import pandas as pd\n",
    "import numpy as np\n",
    "import pytest\n",
    "\n",
    "path = \"grades.csv\""
   ],
   "outputs": [],
   "execution_count": 26
  },
  {
   "metadata": {
    "ExecuteTime": {
     "end_time": "2024-10-19T14:54:44.667090Z",
     "start_time": "2024-10-19T14:54:44.660509Z"
    }
   },
   "cell_type": "code",
   "source": [
    "df = pd.read_csv(path)\n",
    "df.columns = df.columns.str.strip().str.replace('\"', '')\n",
    "df['Test1'] = pd.to_numeric(df['Test1'], errors='coerce')\n",
    "df['Test2'] = pd.to_numeric(df['Test2'], errors='coerce')\n",
    "df['Test3'] = pd.to_numeric(df['Test3'], errors='coerce')\n",
    "df['Test4'] = pd.to_numeric(df['Test4'], errors='coerce')\n",
    "df['Final'] = pd.to_numeric(df['Final'], errors='coerce')"
   ],
   "id": "9a21b5835d5e218f",
   "outputs": [],
   "execution_count": 57
  },
  {
   "metadata": {},
   "cell_type": "markdown",
   "source": "## Считаем среднее",
   "id": "14db53a6a29ba260"
  },
  {
   "metadata": {
    "ExecuteTime": {
     "end_time": "2024-10-19T14:55:23.573701Z",
     "start_time": "2024-10-19T14:55:23.568893Z"
    }
   },
   "cell_type": "code",
   "source": [
    "%%file average.py\n",
    "import pytest\n",
    "import pandas as pd\n",
    "\n",
    "def average_grade(path):\n",
    "    df = pd.read_csv(path)\n",
    "    df.columns = df.columns.str.strip().str.replace('\"', '')\n",
    "    grades = df[['Test1', 'Test2', 'Test3', 'Test4', 'Final']].values.flatten()\n",
    "    average = grades.mean()\n",
    "    print(f\"Среднее: {average}\")\n",
    "    return average"
   ],
   "id": "ff4e28749d6615f7",
   "outputs": [
    {
     "name": "stdout",
     "output_type": "stream",
     "text": [
      "Overwriting average.py\n"
     ]
    }
   ],
   "execution_count": 61
  },
  {
   "metadata": {},
   "cell_type": "markdown",
   "source": "## Тестим среднее",
   "id": "beec09cacd1cc3b9"
  },
  {
   "metadata": {
    "ExecuteTime": {
     "end_time": "2024-10-19T15:01:19.470114Z",
     "start_time": "2024-10-19T15:01:19.466709Z"
    }
   },
   "cell_type": "code",
   "source": [
    "%%file test_average.py\n",
    "import pytest\n",
    "from average import average_grade\n",
    "\n",
    "path = \"grades.csv\"\n",
    "\n",
    "def test_average_grade():\n",
    "    average = average_grade(\"grades.csv\")\n",
    "    assert average == pytest.approx(10)"
   ],
   "id": "ed0f764f3120cf06",
   "outputs": [
    {
     "name": "stdout",
     "output_type": "stream",
     "text": [
      "Overwriting test_average.py\n"
     ]
    }
   ],
   "execution_count": 62
  },
  {
   "metadata": {},
   "cell_type": "code",
   "source": "!pytest test_average.py",
   "id": "a77410388dc05d76",
   "outputs": [],
   "execution_count": null
  }
 ],
 "metadata": {
  "kernelspec": {
   "display_name": "Python 3",
   "language": "python",
   "name": "python3"
  },
  "language_info": {
   "codemirror_mode": {
    "name": "ipython",
    "version": 2
   },
   "file_extension": ".py",
   "mimetype": "text/x-python",
   "name": "python",
   "nbconvert_exporter": "python",
   "pygments_lexer": "ipython2",
   "version": "2.7.6"
  }
 },
 "nbformat": 4,
 "nbformat_minor": 5
}
