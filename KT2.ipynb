{
 "cells": [
  {
   "metadata": {},
   "cell_type": "markdown",
   "source": "## Импорты",
   "id": "d1800fe315e1fdd7"
  },
  {
   "cell_type": "code",
   "id": "initial_id",
   "metadata": {
    "collapsed": true,
    "ExecuteTime": {
     "end_time": "2024-10-25T13:02:00.684277Z",
     "start_time": "2024-10-25T13:02:00.674454Z"
    }
   },
   "source": [
    "import pandas as pd\n",
    "\n",
    "path = \"grades.csv\""
   ],
   "outputs": [],
   "execution_count": 34
  },
  {
   "metadata": {
    "ExecuteTime": {
     "end_time": "2024-10-25T13:02:01.399032Z",
     "start_time": "2024-10-25T13:02:01.370547Z"
    }
   },
   "cell_type": "code",
   "source": [
    "df = pd.read_csv(path)\n",
    "df.columns = df.columns.str.strip().str.replace('\"', '')\n",
    "df['Test1'] = pd.to_numeric(df['Test1'], errors='coerce')\n",
    "df['Test2'] = pd.to_numeric(df['Test2'], errors='coerce')\n",
    "df['Test3'] = pd.to_numeric(df['Test3'], errors='coerce')\n",
    "df['Test4'] = pd.to_numeric(df['Test4'], errors='coerce')\n",
    "df['Final'] = pd.to_numeric(df['Final'], errors='coerce')"
   ],
   "id": "9a21b5835d5e218f",
   "outputs": [],
   "execution_count": 35
  },
  {
   "metadata": {},
   "cell_type": "markdown",
   "source": [
    "## Задание 1\n",
    "Считаем среднее"
   ],
   "id": "14db53a6a29ba260"
  },
  {
   "metadata": {
    "ExecuteTime": {
     "end_time": "2024-10-25T13:02:01.448726Z",
     "start_time": "2024-10-25T13:02:01.419007Z"
    }
   },
   "cell_type": "code",
   "source": [
    "%%file average.py\n",
    "import pytest\n",
    "import pandas as pd\n",
    "\n",
    "def average_grade(path):\n",
    "    df = pd.read_csv(path)\n",
    "    df.columns = df.columns.str.strip().str.replace('\"', '')\n",
    "    grades = df[['Test1', 'Test2', 'Test3', 'Test4', 'Final']].values.flatten()\n",
    "    average = grades.mean()\n",
    "    print(f\"Среднее: {average}\")\n",
    "    return average"
   ],
   "id": "ff4e28749d6615f7",
   "outputs": [
    {
     "name": "stdout",
     "output_type": "stream",
     "text": [
      "Overwriting average.py\n"
     ]
    }
   ],
   "execution_count": 36
  },
  {
   "metadata": {},
   "cell_type": "markdown",
   "source": "### Тестим подсчет среднего",
   "id": "beec09cacd1cc3b9"
  },
  {
   "metadata": {
    "ExecuteTime": {
     "end_time": "2024-10-25T13:02:01.591854Z",
     "start_time": "2024-10-25T13:02:01.567260Z"
    }
   },
   "cell_type": "code",
   "source": [
    "%%file test_average.py\n",
    "import pytest\n",
    "from average import average_grade\n",
    "\n",
    "path = \"grades.csv\"\n",
    "\n",
    "def test_average_grade():\n",
    "    average = average_grade(\"grades.csv\")\n",
    "    assert average == 10"
   ],
   "id": "ed0f764f3120cf06",
   "outputs": [
    {
     "name": "stdout",
     "output_type": "stream",
     "text": [
      "Overwriting test_average.py\n"
     ]
    }
   ],
   "execution_count": 37
  },
  {
   "metadata": {
    "ExecuteTime": {
     "end_time": "2024-10-25T13:02:01.753950Z",
     "start_time": "2024-10-25T13:02:01.702628Z"
    }
   },
   "cell_type": "code",
   "source": "!pytest test_average.py",
   "id": "a77410388dc05d76",
   "outputs": [
    {
     "name": "stderr",
     "output_type": "stream",
     "text": [
      "\"pytest\" ­Ґ пў«пҐвбп ў­гваҐ­­Ґ© Ё«Ё ў­Ґи­Ґ©\n",
      "Є®¬ ­¤®©, ЁбЇ®«­пҐ¬®© Їа®Ја ¬¬®© Ё«Ё Ї ЄҐв­л¬ д ©«®¬.\n"
     ]
    }
   ],
   "execution_count": 38
  },
  {
   "metadata": {},
   "cell_type": "markdown",
   "source": [
    "## Задание 2\n",
    "Добавляем героев"
   ],
   "id": "85a780be168e10e"
  },
  {
   "metadata": {
    "ExecuteTime": {
     "end_time": "2024-10-25T13:02:01.908457Z",
     "start_time": "2024-10-25T13:02:01.890617Z"
    }
   },
   "cell_type": "code",
   "source": [
    "%%file add_hero.py\n",
    "import json\n",
    "\n",
    "def add_hero(filename):\n",
    "    # Грузим старых героев\n",
    "    with open(\"superhero.json\", 'r') as f:\n",
    "        old = json.load(f)\n",
    "\n",
    "    # Грузим новых героев\n",
    "    with open(filename, 'r') as f:\n",
    "        new = json.load(f)\n",
    "\n",
    "    # Добавляем новых героев в список\n",
    "    old['members'].extend(new['members'])\n",
    "\n",
    "    # Сохраняем обновленный список героев\n",
    "    with open(\"superhero_new.json\", 'w') as f:\n",
    "        json.dump(old, f, indent=4)\n",
    "\n",
    "add_hero(\"add_heroes.json\")"
   ],
   "id": "318918e7a0f193d6",
   "outputs": [
    {
     "name": "stdout",
     "output_type": "stream",
     "text": [
      "Overwriting add_hero.py\n"
     ]
    }
   ],
   "execution_count": 39
  },
  {
   "metadata": {
    "ExecuteTime": {
     "end_time": "2024-10-25T13:02:02.449271Z",
     "start_time": "2024-10-25T13:02:02.059790Z"
    }
   },
   "cell_type": "code",
   "source": "!python add_hero.py",
   "id": "848b7421adc3955",
   "outputs": [
    {
     "name": "stderr",
     "output_type": "stream",
     "text": [
      "Python \n"
     ]
    }
   ],
   "execution_count": 40
  },
  {
   "metadata": {},
   "cell_type": "markdown",
   "source": "### Сортируем героев по возрасту",
   "id": "ba0aff3fe0731927"
  },
  {
   "metadata": {
    "ExecuteTime": {
     "end_time": "2024-10-25T13:02:02.497405Z",
     "start_time": "2024-10-25T13:02:02.484200Z"
    }
   },
   "cell_type": "code",
   "source": [
    "%%file sort_hero.py\n",
    "import json\n",
    "\n",
    "\n",
    "def sort_hero(filename):\n",
    "    with open(filename, 'r') as f:\n",
    "        data = json.load(f)\n",
    "\n",
    "    data['members'].sort(key=lambda member: member['age'])\n",
    "\n",
    "    with open('superhero_new.json', 'w') as f:\n",
    "        json.dump(data, f, indent=4)\n",
    "\n",
    "\n",
    "sort_hero(\"superhero_new.json\")"
   ],
   "id": "cf88300cd6a9986f",
   "outputs": [
    {
     "name": "stdout",
     "output_type": "stream",
     "text": [
      "Overwriting sort_hero.py\n"
     ]
    }
   ],
   "execution_count": 41
  },
  {
   "metadata": {
    "ExecuteTime": {
     "end_time": "2024-10-25T13:02:02.802839Z",
     "start_time": "2024-10-25T13:02:02.561585Z"
    }
   },
   "cell_type": "code",
   "source": "!python sort_hero.py",
   "id": "daa1d96fad37e032",
   "outputs": [
    {
     "name": "stderr",
     "output_type": "stream",
     "text": [
      "Python \n"
     ]
    }
   ],
   "execution_count": 42
  },
  {
   "metadata": {},
   "cell_type": "markdown",
   "source": "### Тестим нахождение супергероев старше 30",
   "id": "2c8bd62554ed64ec"
  },
  {
   "metadata": {
    "ExecuteTime": {
     "end_time": "2024-10-25T13:02:02.869976Z",
     "start_time": "2024-10-25T13:02:02.847166Z"
    }
   },
   "cell_type": "code",
   "source": [
    "%%file test_check_age.py\n",
    "import json\n",
    "import pytest\n",
    "\n",
    "\n",
    "def test_check_age():\n",
    "    filename = \"add_heroes.json\"\n",
    "    \n",
    "    with open(filename, 'r') as f:\n",
    "        data = json.load(f)\n",
    "\n",
    "    older_30 = [hero['name'] for hero in data['members'] if hero['age'] > 30]\n",
    "    assert older_30"
   ],
   "id": "86e77005ba9daf9f",
   "outputs": [
    {
     "name": "stdout",
     "output_type": "stream",
     "text": [
      "Overwriting test_check_age.py\n"
     ]
    }
   ],
   "execution_count": 43
  },
  {
   "metadata": {
    "ExecuteTime": {
     "end_time": "2024-10-25T13:02:02.959232Z",
     "start_time": "2024-10-25T13:02:02.910404Z"
    }
   },
   "cell_type": "code",
   "source": "!pytest test_check_age.py",
   "id": "df8b1645e9169fb3",
   "outputs": [
    {
     "name": "stderr",
     "output_type": "stream",
     "text": [
      "\"pytest\" ­Ґ пў«пҐвбп ў­гваҐ­­Ґ© Ё«Ё ў­Ґи­Ґ©\n",
      "Є®¬ ­¤®©, ЁбЇ®«­пҐ¬®© Їа®Ја ¬¬®© Ё«Ё Ї ЄҐв­л¬ д ©«®¬.\n"
     ]
    }
   ],
   "execution_count": 44
  }
 ],
 "metadata": {
  "kernelspec": {
   "display_name": "Python 3",
   "language": "python",
   "name": "python3"
  },
  "language_info": {
   "codemirror_mode": {
    "name": "ipython",
    "version": 2
   },
   "file_extension": ".py",
   "mimetype": "text/x-python",
   "name": "python",
   "nbconvert_exporter": "python",
   "pygments_lexer": "ipython2",
   "version": "2.7.6"
  }
 },
 "nbformat": 4,
 "nbformat_minor": 5
}
