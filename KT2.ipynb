{
 "cells": [
  {
   "metadata": {},
   "cell_type": "markdown",
   "source": "## Импорты",
   "id": "d1800fe315e1fdd7"
  },
  {
   "cell_type": "code",
   "id": "initial_id",
   "metadata": {
    "collapsed": true
   },
   "source": [
    "import pandas as pd\n",
    "import pytest\n",
    "\n",
    "path = \"grades.csv\""
   ],
   "outputs": [],
   "execution_count": null
  },
  {
   "metadata": {},
   "cell_type": "code",
   "source": [
    "df = pd.read_csv(path)\n",
    "df.columns = df.columns.str.strip().str.replace('\"', '')\n",
    "df['Test1'] = pd.to_numeric(df['Test1'], errors='coerce')\n",
    "df['Test2'] = pd.to_numeric(df['Test2'], errors='coerce')\n",
    "df['Test3'] = pd.to_numeric(df['Test3'], errors='coerce')\n",
    "df['Test4'] = pd.to_numeric(df['Test4'], errors='coerce')\n",
    "df['Final'] = pd.to_numeric(df['Final'], errors='coerce')"
   ],
   "id": "9a21b5835d5e218f",
   "outputs": [],
   "execution_count": null
  },
  {
   "metadata": {},
   "cell_type": "markdown",
   "source": [
    "## Задание 1\n",
    "Считаем среднее"
   ],
   "id": "14db53a6a29ba260"
  },
  {
   "metadata": {},
   "cell_type": "code",
   "source": [
    "%%file average.py\n",
    "import pytest\n",
    "import pandas as pd\n",
    "\n",
    "def average_grade(path):\n",
    "    df = pd.read_csv(path)\n",
    "    df.columns = df.columns.str.strip().str.replace('\"', '')\n",
    "    grades = df[['Test1', 'Test2', 'Test3', 'Test4', 'Final']].values.flatten()\n",
    "    average = grades.mean()\n",
    "    print(f\"Среднее: {average}\")\n",
    "    return average"
   ],
   "id": "ff4e28749d6615f7",
   "outputs": [],
   "execution_count": null
  },
  {
   "metadata": {},
   "cell_type": "markdown",
   "source": "### Тестим подсчет среднего",
   "id": "beec09cacd1cc3b9"
  },
  {
   "metadata": {},
   "cell_type": "code",
   "source": [
    "%%file test_average.py\n",
    "import pytest\n",
    "from average import average_grade\n",
    "\n",
    "path = \"grades.csv\"\n",
    "\n",
    "def test_average_grade():\n",
    "    average = average_grade(\"grades.csv\")\n",
    "    assert average == pytest.approx(10)"
   ],
   "id": "ed0f764f3120cf06",
   "outputs": [],
   "execution_count": null
  },
  {
   "metadata": {},
   "cell_type": "code",
   "source": "!pytest test_average.py",
   "id": "a77410388dc05d76",
   "outputs": [],
   "execution_count": null
  },
  {
   "metadata": {},
   "cell_type": "markdown",
   "source": [
    "## Задание 2\n",
    "Добавляем героев"
   ],
   "id": "85a780be168e10e"
  },
  {
   "metadata": {},
   "cell_type": "code",
   "source": [
    "%%file add_hero.py\n",
    "import json\n",
    "\n",
    "def add_hero(filename):\n",
    "    # Грузим старых героев\n",
    "    with open(\"superhero.json\", 'r') as f:\n",
    "        old = json.load(f)\n",
    "\n",
    "    # Грузим новых героев\n",
    "    with open(filename, 'r') as f:\n",
    "        new = json.load(f)\n",
    "\n",
    "    # Добавляем новых героев в список\n",
    "    old['members'].extend(new['members'])\n",
    "\n",
    "    # Сохраняем обновленный список героев\n",
    "    with open(\"superhero_new.json\", 'w') as f:\n",
    "        json.dump(old, f, indent=4)\n",
    "\n",
    "add_hero(\"add_heroes.json\")"
   ],
   "id": "318918e7a0f193d6",
   "outputs": [],
   "execution_count": null
  },
  {
   "metadata": {},
   "cell_type": "code",
   "source": "!python add_hero.py",
   "id": "848b7421adc3955",
   "outputs": [],
   "execution_count": null
  },
  {
   "metadata": {},
   "cell_type": "markdown",
   "source": "### Сортируем героев по возрасту",
   "id": "ba0aff3fe0731927"
  },
  {
   "metadata": {},
   "cell_type": "code",
   "source": [
    "%%file sort_hero.py\n",
    "import json\n",
    "\n",
    "\n",
    "def sort_hero(filename):\n",
    "    with open(filename, 'r') as f:\n",
    "        data = json.load(f)\n",
    "\n",
    "    data['members'].sort(key=lambda member: member['age'])\n",
    "\n",
    "    with open('superhero_new.json', 'w') as f:\n",
    "        json.dump(data, f, indent=4)\n",
    "\n",
    "\n",
    "sort_hero(\"superhero_new.json\")"
   ],
   "id": "cf88300cd6a9986f",
   "outputs": [],
   "execution_count": null
  },
  {
   "metadata": {},
   "cell_type": "code",
   "source": "!python sort_hero.py",
   "id": "daa1d96fad37e032",
   "outputs": [],
   "execution_count": null
  },
  {
   "metadata": {},
   "cell_type": "markdown",
   "source": "### Тестим нахождение супергероев старше 30",
   "id": "2c8bd62554ed64ec"
  },
  {
   "metadata": {},
   "cell_type": "code",
   "source": [
    "%%file test_check_age.py\n",
    "import json\n",
    "import pytest\n",
    "\n",
    "\n",
    "def test_check_age():\n",
    "    filename = \"add_heroes.json\"\n",
    "    \n",
    "    with open(filename, 'r') as f:\n",
    "        data = json.load(f)\n",
    "\n",
    "    older_30 = [hero['name'] for hero in data['members'] if hero['age'] > 30]\n",
    "    assert older_30"
   ],
   "id": "86e77005ba9daf9f",
   "outputs": [],
   "execution_count": null
  },
  {
   "metadata": {},
   "cell_type": "code",
   "source": "!pytest test_check_age.py",
   "id": "df8b1645e9169fb3",
   "outputs": [],
   "execution_count": null
  }
 ],
 "metadata": {
  "kernelspec": {
   "display_name": "Python 3",
   "language": "python",
   "name": "python3"
  },
  "language_info": {
   "codemirror_mode": {
    "name": "ipython",
    "version": 2
   },
   "file_extension": ".py",
   "mimetype": "text/x-python",
   "name": "python",
   "nbconvert_exporter": "python",
   "pygments_lexer": "ipython2",
   "version": "2.7.6"
  }
 },
 "nbformat": 4,
 "nbformat_minor": 5
}
