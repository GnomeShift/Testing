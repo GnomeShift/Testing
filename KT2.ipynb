{
 "cells": [
  {
   "metadata": {},
   "cell_type": "markdown",
   "source": "## Импорты",
   "id": "d1800fe315e1fdd7"
  },
  {
   "cell_type": "code",
   "id": "initial_id",
   "metadata": {
    "collapsed": true,
    "ExecuteTime": {
     "end_time": "2024-10-25T13:09:47.424321Z",
     "start_time": "2024-10-25T13:09:47.420020Z"
    }
   },
   "source": [
    "import pandas as pd\n",
    "\n",
    "path = \"grades.csv\""
   ],
   "outputs": [],
   "execution_count": 33
  },
  {
   "metadata": {
    "ExecuteTime": {
     "end_time": "2024-10-25T13:09:47.442971Z",
     "start_time": "2024-10-25T13:09:47.436902Z"
    }
   },
   "cell_type": "code",
   "source": [
    "df = pd.read_csv(path)\n",
    "df.columns = df.columns.str.strip().str.replace('\"', '')\n",
    "df['Test1'] = pd.to_numeric(df['Test1'], errors='coerce')\n",
    "df['Test2'] = pd.to_numeric(df['Test2'], errors='coerce')\n",
    "df['Test3'] = pd.to_numeric(df['Test3'], errors='coerce')\n",
    "df['Test4'] = pd.to_numeric(df['Test4'], errors='coerce')\n",
    "df['Final'] = pd.to_numeric(df['Final'], errors='coerce')"
   ],
   "id": "9a21b5835d5e218f",
   "outputs": [],
   "execution_count": 34
  },
  {
   "metadata": {},
   "cell_type": "markdown",
   "source": [
    "## Задание 1\n",
    "Считаем среднее"
   ],
   "id": "14db53a6a29ba260"
  },
  {
   "metadata": {
    "ExecuteTime": {
     "end_time": "2024-10-25T13:09:47.455674Z",
     "start_time": "2024-10-25T13:09:47.452287Z"
    }
   },
   "cell_type": "code",
   "source": [
    "%%file average.py\n",
    "import pytest\n",
    "import pandas as pd\n",
    "\n",
    "def average_grade(path):\n",
    "    df = pd.read_csv(path)\n",
    "    df.columns = df.columns.str.strip().str.replace('\"', '')\n",
    "    grades = df[['Test1', 'Test2', 'Test3', 'Test4', 'Final']].values.flatten()\n",
    "    average = grades.mean()\n",
    "    print(f\"Среднее: {average}\")\n",
    "    return average"
   ],
   "id": "ff4e28749d6615f7",
   "outputs": [
    {
     "name": "stdout",
     "output_type": "stream",
     "text": [
      "Overwriting average.py\n"
     ]
    }
   ],
   "execution_count": 35
  },
  {
   "metadata": {},
   "cell_type": "markdown",
   "source": "### Тестим подсчет среднего",
   "id": "beec09cacd1cc3b9"
  },
  {
   "metadata": {
    "ExecuteTime": {
     "end_time": "2024-10-25T13:09:47.468060Z",
     "start_time": "2024-10-25T13:09:47.465149Z"
    }
   },
   "cell_type": "code",
   "source": [
    "%%file test_average.py\n",
    "import pytest\n",
    "from average import average_grade\n",
    "\n",
    "path = \"grades.csv\"\n",
    "\n",
    "def test_average_grade():\n",
    "    average = average_grade(\"grades.csv\")\n",
    "    assert average == 10"
   ],
   "id": "ed0f764f3120cf06",
   "outputs": [
    {
     "name": "stdout",
     "output_type": "stream",
     "text": [
      "Overwriting test_average.py\n"
     ]
    }
   ],
   "execution_count": 36
  },
  {
   "metadata": {
    "ExecuteTime": {
     "end_time": "2024-10-25T13:09:48.244930Z",
     "start_time": "2024-10-25T13:09:47.548710Z"
    }
   },
   "cell_type": "code",
   "source": "!pytest test_average.py",
   "id": "a77410388dc05d76",
   "outputs": [
    {
     "name": "stdout",
     "output_type": "stream",
     "text": [
      "\u001B[1m============================= test session starts ==============================\u001B[0m\r\n",
      "platform darwin -- Python 3.9.6, pytest-8.3.3, pluggy-1.5.0\r\n",
      "rootdir: /Users/valdor/Projects/PycharmProjects/Testing\r\n",
      "plugins: anyio-4.6.2.post1\r\n",
      "collected 1 item                                                               \u001B[0m\r\n",
      "\r\n",
      "test_average.py \u001B[31mF\u001B[0m\u001B[31m                                                        [100%]\u001B[0m\r\n",
      "\r\n",
      "=================================== FAILURES ===================================\r\n",
      "\u001B[31m\u001B[1m______________________________ test_average_grade ______________________________\u001B[0m\r\n",
      "\r\n",
      "    \u001B[0m\u001B[94mdef\u001B[39;49;00m \u001B[92mtest_average_grade\u001B[39;49;00m():\u001B[90m\u001B[39;49;00m\r\n",
      "        average = average_grade(\u001B[33m\"\u001B[39;49;00m\u001B[33mgrades.csv\u001B[39;49;00m\u001B[33m\"\u001B[39;49;00m)\u001B[90m\u001B[39;49;00m\r\n",
      ">       \u001B[94massert\u001B[39;49;00m average == \u001B[94m10\u001B[39;49;00m\u001B[90m\u001B[39;49;00m\r\n",
      "\u001B[1m\u001B[31mE       assert np.float64(49.7875) == 10\u001B[0m\r\n",
      "\r\n",
      "\u001B[1m\u001B[31mtest_average.py\u001B[0m:8: AssertionError\r\n",
      "----------------------------- Captured stdout call -----------------------------\r\n",
      "Среднее: 49.7875\r\n",
      "\u001B[36m\u001B[1m=========================== short test summary info ============================\u001B[0m\r\n",
      "\u001B[31mFAILED\u001B[0m test_average.py::\u001B[1mtest_average_grade\u001B[0m - assert np.float64(49.7875) == 10\r\n",
      "\u001B[31m============================== \u001B[31m\u001B[1m1 failed\u001B[0m\u001B[31m in 0.33s\u001B[0m\u001B[31m ===============================\u001B[0m\r\n"
     ]
    }
   ],
   "execution_count": 37
  },
  {
   "metadata": {},
   "cell_type": "markdown",
   "source": [
    "## Задание 2\n",
    "Добавляем героев"
   ],
   "id": "85a780be168e10e"
  },
  {
   "metadata": {
    "ExecuteTime": {
     "end_time": "2024-10-25T13:09:48.261866Z",
     "start_time": "2024-10-25T13:09:48.257618Z"
    }
   },
   "cell_type": "code",
   "source": [
    "%%file add_hero.py\n",
    "import json\n",
    "\n",
    "def add_hero(filename):\n",
    "    # Грузим старых героев\n",
    "    with open(\"superhero.json\", 'r') as f:\n",
    "        old = json.load(f)\n",
    "\n",
    "    # Грузим новых героев\n",
    "    with open(filename, 'r') as f:\n",
    "        new = json.load(f)\n",
    "\n",
    "    # Добавляем новых героев в список\n",
    "    old['members'].extend(new['members'])\n",
    "\n",
    "    # Сохраняем обновленный список героев\n",
    "    with open(\"superhero_new.json\", 'w') as f:\n",
    "        json.dump(old, f, indent=4)\n",
    "\n",
    "add_hero(\"add_heroes.json\")"
   ],
   "id": "318918e7a0f193d6",
   "outputs": [
    {
     "name": "stdout",
     "output_type": "stream",
     "text": [
      "Overwriting add_hero.py\n"
     ]
    }
   ],
   "execution_count": 38
  },
  {
   "metadata": {
    "ExecuteTime": {
     "end_time": "2024-10-25T13:09:48.417258Z",
     "start_time": "2024-10-25T13:09:48.272691Z"
    }
   },
   "cell_type": "code",
   "source": "!python add_hero.py",
   "id": "848b7421adc3955",
   "outputs": [],
   "execution_count": 39
  },
  {
   "metadata": {},
   "cell_type": "markdown",
   "source": "### Сортируем героев по возрасту",
   "id": "ba0aff3fe0731927"
  },
  {
   "metadata": {
    "ExecuteTime": {
     "end_time": "2024-10-25T13:09:48.433456Z",
     "start_time": "2024-10-25T13:09:48.429496Z"
    }
   },
   "cell_type": "code",
   "source": [
    "%%file sort_hero.py\n",
    "import json\n",
    "\n",
    "\n",
    "def sort_hero(filename):\n",
    "    with open(filename, 'r') as f:\n",
    "        data = json.load(f)\n",
    "\n",
    "    data['members'].sort(key=lambda member: member['age'])\n",
    "\n",
    "    with open('superhero_new.json', 'w') as f:\n",
    "        json.dump(data, f, indent=4)\n",
    "\n",
    "\n",
    "sort_hero(\"superhero_new.json\")"
   ],
   "id": "cf88300cd6a9986f",
   "outputs": [
    {
     "name": "stdout",
     "output_type": "stream",
     "text": [
      "Overwriting sort_hero.py\n"
     ]
    }
   ],
   "execution_count": 40
  },
  {
   "metadata": {
    "ExecuteTime": {
     "end_time": "2024-10-25T13:09:48.599436Z",
     "start_time": "2024-10-25T13:09:48.454530Z"
    }
   },
   "cell_type": "code",
   "source": "!python sort_hero.py",
   "id": "daa1d96fad37e032",
   "outputs": [],
   "execution_count": 41
  },
  {
   "metadata": {},
   "cell_type": "markdown",
   "source": "### Тестим нахождение супергероев старше 30",
   "id": "2c8bd62554ed64ec"
  },
  {
   "metadata": {
    "ExecuteTime": {
     "end_time": "2024-10-25T13:09:48.615108Z",
     "start_time": "2024-10-25T13:09:48.611843Z"
    }
   },
   "cell_type": "code",
   "source": [
    "%%file test_check_age.py\n",
    "import json\n",
    "import pytest\n",
    "\n",
    "\n",
    "def test_check_age():\n",
    "    filename = \"add_heroes.json\"\n",
    "    \n",
    "    with open(filename, 'r') as f:\n",
    "        data = json.load(f)\n",
    "\n",
    "    older_30 = [hero['name'] for hero in data['members'] if hero['age'] > 30]\n",
    "    assert older_30"
   ],
   "id": "86e77005ba9daf9f",
   "outputs": [
    {
     "name": "stdout",
     "output_type": "stream",
     "text": [
      "Overwriting test_check_age.py\n"
     ]
    }
   ],
   "execution_count": 42
  },
  {
   "metadata": {
    "ExecuteTime": {
     "end_time": "2024-10-25T13:09:48.937150Z",
     "start_time": "2024-10-25T13:09:48.633530Z"
    }
   },
   "cell_type": "code",
   "source": "!pytest test_check_age.py",
   "id": "df8b1645e9169fb3",
   "outputs": [
    {
     "name": "stdout",
     "output_type": "stream",
     "text": [
      "\u001B[1m============================= test session starts ==============================\u001B[0m\r\n",
      "platform darwin -- Python 3.9.6, pytest-8.3.3, pluggy-1.5.0\r\n",
      "rootdir: /Users/valdor/Projects/PycharmProjects/Testing\r\n",
      "plugins: anyio-4.6.2.post1\r\n",
      "collected 1 item                                                               \u001B[0m\r\n",
      "\r\n",
      "test_check_age.py \u001B[32m.\u001B[0m\u001B[32m                                                      [100%]\u001B[0m\r\n",
      "\r\n",
      "\u001B[32m============================== \u001B[32m\u001B[1m1 passed\u001B[0m\u001B[32m in 0.01s\u001B[0m\u001B[32m ===============================\u001B[0m\r\n"
     ]
    }
   ],
   "execution_count": 43
  }
 ],
 "metadata": {
  "kernelspec": {
   "display_name": "Python 3",
   "language": "python",
   "name": "python3"
  },
  "language_info": {
   "codemirror_mode": {
    "name": "ipython",
    "version": 2
   },
   "file_extension": ".py",
   "mimetype": "text/x-python",
   "name": "python",
   "nbconvert_exporter": "python",
   "pygments_lexer": "ipython2",
   "version": "2.7.6"
  }
 },
 "nbformat": 4,
 "nbformat_minor": 5
}
