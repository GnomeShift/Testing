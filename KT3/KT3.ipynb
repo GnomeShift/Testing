{
 "cells": [
  {
   "metadata": {},
   "cell_type": "markdown",
   "source": "## Импорты",
   "id": "463198826252cbcd"
  },
  {
   "cell_type": "code",
   "id": "initial_id",
   "metadata": {
    "collapsed": true,
    "ExecuteTime": {
     "end_time": "2024-10-30T18:00:23.421506Z",
     "start_time": "2024-10-30T18:00:23.308209Z"
    }
   },
   "source": "import pytest",
   "outputs": [],
   "execution_count": 1
  },
  {
   "metadata": {},
   "cell_type": "markdown",
   "source": "### 1. Возвращаем длину строки",
   "id": "d8eee540f7e1dd5a"
  },
  {
   "metadata": {
    "ExecuteTime": {
     "end_time": "2024-10-30T18:00:23.452775Z",
     "start_time": "2024-10-30T18:00:23.442714Z"
    }
   },
   "cell_type": "code",
   "source": [
    "%%file string_length.py\n",
    "\n",
    "string = \"строка\"\n",
    "\n",
    "def string_length(string):\n",
    "    length = len(string)\n",
    "    print(f\"Длина: {length}\")\n",
    "    return length\n",
    "\n",
    "string_length(string)"
   ],
   "id": "8dae1b3e401a1712",
   "outputs": [
    {
     "name": "stdout",
     "output_type": "stream",
     "text": [
      "Overwriting string_length.py\n"
     ]
    }
   ],
   "execution_count": 2
  },
  {
   "metadata": {
    "ExecuteTime": {
     "end_time": "2024-10-30T18:00:23.624850Z",
     "start_time": "2024-10-30T18:00:23.507011Z"
    }
   },
   "cell_type": "code",
   "source": "!python string_length.py",
   "id": "5455d9332a35665a",
   "outputs": [
    {
     "name": "stdout",
     "output_type": "stream",
     "text": [
      "Длина: 6\n"
     ]
    }
   ],
   "execution_count": 3
  },
  {
   "metadata": {},
   "cell_type": "markdown",
   "source": "### Тестим длину пустой строки",
   "id": "687fa2b1eddc9455"
  },
  {
   "metadata": {
    "ExecuteTime": {
     "end_time": "2024-10-30T18:00:23.841160Z",
     "start_time": "2024-10-30T18:00:23.828962Z"
    }
   },
   "cell_type": "code",
   "source": [
    "%%file test_blank.py\n",
    "from KT3.string_length import string_length\n",
    "\n",
    "def test_blank():\n",
    "    assert string_length(\"\") == 0\n"
   ],
   "id": "56bf9ec0c9c57b09",
   "outputs": [
    {
     "name": "stdout",
     "output_type": "stream",
     "text": [
      "Overwriting test_blank.py\n"
     ]
    }
   ],
   "execution_count": 4
  },
  {
   "metadata": {
    "ExecuteTime": {
     "end_time": "2024-10-30T18:00:24.608537Z",
     "start_time": "2024-10-30T18:00:23.906127Z"
    }
   },
   "cell_type": "code",
   "source": "!pytest test_blank.py",
   "id": "868bcf406c47b488",
   "outputs": [
    {
     "name": "stdout",
     "output_type": "stream",
     "text": [
      "\u001B[1m============================= test session starts =============================\u001B[0m\n",
      "platform win32 -- Python 3.9.7, pytest-8.3.3, pluggy-1.5.0\n",
      "rootdir: C:\\Users\\acva0\\Projects\\PycharmProjects\\Pytesting\\KT3\n",
      "plugins: anyio-4.6.2.post1, cov-5.0.0, sugar-1.0.0\n",
      "collected 1 item\n",
      "\n",
      "test_blank.py \u001B[32m.\u001B[0m\u001B[32m                                                          [100%]\u001B[0m\n",
      "\n",
      "\u001B[32m============================== \u001B[32m\u001B[1m1 passed\u001B[0m\u001B[32m in 0.04s\u001B[0m\u001B[32m ==============================\u001B[0m\n"
     ]
    }
   ],
   "execution_count": 5
  },
  {
   "metadata": {},
   "cell_type": "markdown",
   "source": "### Тестим многострочную строку",
   "id": "448c116db1c1fbdc"
  },
  {
   "metadata": {
    "ExecuteTime": {
     "end_time": "2024-10-30T18:00:24.654538Z",
     "start_time": "2024-10-30T18:00:24.635005Z"
    }
   },
   "cell_type": "code",
   "source": [
    "%%file test_multiline.py\n",
    "from KT3.string_length import string_length\n",
    "\n",
    "def test_multiline():\n",
    "    assert string_length(\"многострочная\\nстрока\") == 21"
   ],
   "id": "19eeb507defb7e5",
   "outputs": [
    {
     "name": "stdout",
     "output_type": "stream",
     "text": [
      "Overwriting test_multiline.py\n"
     ]
    }
   ],
   "execution_count": 6
  },
  {
   "metadata": {
    "ExecuteTime": {
     "end_time": "2024-10-30T18:00:25.479207Z",
     "start_time": "2024-10-30T18:00:24.679458Z"
    }
   },
   "cell_type": "code",
   "source": "!pytest test_multiline.py",
   "id": "78d4a024da67d608",
   "outputs": [
    {
     "name": "stdout",
     "output_type": "stream",
     "text": [
      "\u001B[1m============================= test session starts =============================\u001B[0m\n",
      "platform win32 -- Python 3.9.7, pytest-8.3.3, pluggy-1.5.0\n",
      "rootdir: C:\\Users\\acva0\\Projects\\PycharmProjects\\Pytesting\\KT3\n",
      "plugins: anyio-4.6.2.post1, cov-5.0.0, sugar-1.0.0\n",
      "collected 1 item\n",
      "\n",
      "test_multiline.py \u001B[31mF\u001B[0m\u001B[31m                                                      [100%]\u001B[0m\n",
      "\n",
      "================================== FAILURES ===================================\n",
      "\u001B[31m\u001B[1m_______________________________ test_multiline ________________________________\u001B[0m\n",
      "\n",
      "    \u001B[0m\u001B[94mdef\u001B[39;49;00m \u001B[92mtest_multiline\u001B[39;49;00m():\u001B[90m\u001B[39;49;00m\n",
      ">       \u001B[94massert\u001B[39;49;00m string_length(\u001B[33m\"\u001B[39;49;00m\u001B[33mмногострочная\u001B[39;49;00m\u001B[33m\\n\u001B[39;49;00m\u001B[33mстрока\u001B[39;49;00m\u001B[33m\"\u001B[39;49;00m) == \u001B[94m21\u001B[39;49;00m\u001B[90m\u001B[39;49;00m\n",
      "\u001B[1m\u001B[31mE       AssertionError: assert 20 == 21\u001B[0m\n",
      "\u001B[1m\u001B[31mE        +  where 20 = string_length('многострочная\\nстрока')\u001B[0m\n",
      "\n",
      "\u001B[1m\u001B[31mtest_multiline.py\u001B[0m:4: AssertionError\n",
      "---------------------------- Captured stdout call -----------------------------\n",
      "Длина: 20\n",
      "\u001B[36m\u001B[1m=========================== short test summary info ===========================\u001B[0m\n",
      "\u001B[31mFAILED\u001B[0m test_multiline.py::\u001B[1mtest_multiline\u001B[0m - AssertionError: assert 20 == 21\n",
      "\u001B[31m============================== \u001B[31m\u001B[1m1 failed\u001B[0m\u001B[31m in 0.14s\u001B[0m\u001B[31m ==============================\u001B[0m\n"
     ]
    }
   ],
   "execution_count": 7
  },
  {
   "metadata": {},
   "cell_type": "markdown",
   "source": "### Тестим строку из пробелов",
   "id": "d636fe0d4d97f7e3"
  },
  {
   "metadata": {
    "ExecuteTime": {
     "end_time": "2024-10-30T18:00:25.605388Z",
     "start_time": "2024-10-30T18:00:25.598102Z"
    }
   },
   "cell_type": "code",
   "source": [
    "%%file test_spaces.py\n",
    "from KT3.string_length import string_length\n",
    "\n",
    "def test_spaces():\n",
    "    assert string_length(\" \") == 1"
   ],
   "id": "ae55a7893ba6b315",
   "outputs": [
    {
     "name": "stdout",
     "output_type": "stream",
     "text": [
      "Overwriting test_spaces.py\n"
     ]
    }
   ],
   "execution_count": 8
  },
  {
   "metadata": {
    "ExecuteTime": {
     "end_time": "2024-10-30T18:00:26.492233Z",
     "start_time": "2024-10-30T18:00:25.787897Z"
    }
   },
   "cell_type": "code",
   "source": "!pytest test_spaces.py",
   "id": "368c2138054140f3",
   "outputs": [
    {
     "name": "stdout",
     "output_type": "stream",
     "text": [
      "\u001B[1m============================= test session starts =============================\u001B[0m\n",
      "platform win32 -- Python 3.9.7, pytest-8.3.3, pluggy-1.5.0\n",
      "rootdir: C:\\Users\\acva0\\Projects\\PycharmProjects\\Pytesting\\KT3\n",
      "plugins: anyio-4.6.2.post1, cov-5.0.0, sugar-1.0.0\n",
      "collected 1 item\n",
      "\n",
      "test_spaces.py \u001B[32m.\u001B[0m\u001B[32m                                                         [100%]\u001B[0m\n",
      "\n",
      "\u001B[32m============================== \u001B[32m\u001B[1m1 passed\u001B[0m\u001B[32m in 0.03s\u001B[0m\u001B[32m ==============================\u001B[0m\n"
     ]
    }
   ],
   "execution_count": 9
  },
  {
   "metadata": {},
   "cell_type": "markdown",
   "source": "### 2. Сохраняем строку в файл",
   "id": "776d234c6c2035df"
  },
  {
   "metadata": {
    "ExecuteTime": {
     "end_time": "2024-10-30T18:00:26.599956Z",
     "start_time": "2024-10-30T18:00:26.587134Z"
    }
   },
   "cell_type": "code",
   "source": [
    "%%file string_to_file.py\n",
    "\n",
    "string = \"строка\"\n",
    "filename = \"string.txt\"\n",
    "\n",
    "def string_to_file(string, filename):\n",
    "    with open(filename, \"w\", encoding=\"UTF-8\") as f:\n",
    "        f.write(string)\n",
    "        f.close()\n",
    "    \n",
    "    print(\"Готово!\")\n",
    "\n",
    "string_to_file(string, filename)"
   ],
   "id": "917b8f7f20f213bd",
   "outputs": [
    {
     "name": "stdout",
     "output_type": "stream",
     "text": [
      "Overwriting string_to_file.py\n"
     ]
    }
   ],
   "execution_count": 10
  },
  {
   "metadata": {
    "ExecuteTime": {
     "end_time": "2024-10-30T18:00:26.817892Z",
     "start_time": "2024-10-30T18:00:26.680486Z"
    }
   },
   "cell_type": "code",
   "source": "!python string_to_file.py",
   "id": "1801a762a952f287",
   "outputs": [
    {
     "name": "stdout",
     "output_type": "stream",
     "text": [
      "Готово!\n"
     ]
    }
   ],
   "execution_count": 11
  },
  {
   "metadata": {},
   "cell_type": "markdown",
   "source": "### Тестим сохранение строки в файл",
   "id": "beabd08a0f57a17"
  },
  {
   "metadata": {
    "ExecuteTime": {
     "end_time": "2024-10-30T18:00:26.848467Z",
     "start_time": "2024-10-30T18:00:26.836209Z"
    }
   },
   "cell_type": "code",
   "source": [
    "%%file test_string_to_file.py\n",
    "from KT3.string_to_file import string_to_file\n",
    "\n",
    "def test_string_to_file():\n",
    "    string = \"строка\"\n",
    "    filename = \"test_string.txt\"\n",
    "    string_to_file(string, filename)\n",
    "    \n",
    "    with open(filename, \"r\", encoding=\"UTF-8\") as f:\n",
    "        assert f.read() == string"
   ],
   "id": "a07da95ed8df824f",
   "outputs": [
    {
     "name": "stdout",
     "output_type": "stream",
     "text": [
      "Overwriting test_string_to_file.py\n"
     ]
    }
   ],
   "execution_count": 12
  },
  {
   "metadata": {
    "ExecuteTime": {
     "end_time": "2024-10-30T18:00:27.548509Z",
     "start_time": "2024-10-30T18:00:26.866620Z"
    }
   },
   "cell_type": "code",
   "source": "!pytest test_string_to_file.py",
   "id": "2644b3d950ada502",
   "outputs": [
    {
     "name": "stdout",
     "output_type": "stream",
     "text": [
      "\u001B[1m============================= test session starts =============================\u001B[0m\n",
      "platform win32 -- Python 3.9.7, pytest-8.3.3, pluggy-1.5.0\n",
      "rootdir: C:\\Users\\acva0\\Projects\\PycharmProjects\\Pytesting\\KT3\n",
      "plugins: anyio-4.6.2.post1, cov-5.0.0, sugar-1.0.0\n",
      "collected 1 item\n",
      "\n",
      "test_string_to_file.py \u001B[32m.\u001B[0m\u001B[32m                                                 [100%]\u001B[0m\n",
      "\n",
      "\u001B[32m============================== \u001B[32m\u001B[1m1 passed\u001B[0m\u001B[32m in 0.04s\u001B[0m\u001B[32m ==============================\u001B[0m\n"
     ]
    }
   ],
   "execution_count": 13
  },
  {
   "metadata": {},
   "cell_type": "markdown",
   "source": "### 3. Фикстура для SQLite",
   "id": "c5f0c877b6a3bee6"
  },
  {
   "metadata": {
    "ExecuteTime": {
     "end_time": "2024-10-30T18:00:27.580451Z",
     "start_time": "2024-10-30T18:00:27.566933Z"
    }
   },
   "cell_type": "code",
   "source": [
    "%%file sqlite_fixture.py\n",
    "import pytest\n",
    "import sqlite3\n",
    "\n",
    "@pytest.fixture(scope=\"function\")\n",
    "def sqlite_fixture():\n",
    "    connection = sqlite3.connect(\":memory:\")\n",
    "    yield connection\n",
    "    connection.close()"
   ],
   "id": "af1759ba828d8f09",
   "outputs": [
    {
     "name": "stdout",
     "output_type": "stream",
     "text": [
      "Overwriting sqlite_fixture.py\n"
     ]
    }
   ],
   "execution_count": 14
  },
  {
   "metadata": {
    "ExecuteTime": {
     "end_time": "2024-10-30T18:00:27.955Z",
     "start_time": "2024-10-30T18:00:27.623607Z"
    }
   },
   "cell_type": "code",
   "source": "!python sqlite_fixture.py",
   "id": "39e6975421f2ffe2",
   "outputs": [],
   "execution_count": 15
  },
  {
   "metadata": {},
   "cell_type": "markdown",
   "source": "### Тестим фикстуру для SQLite",
   "id": "6da3ca68d27f978e"
  },
  {
   "metadata": {
    "ExecuteTime": {
     "end_time": "2024-10-30T18:00:27.985390Z",
     "start_time": "2024-10-30T18:00:27.972389Z"
    }
   },
   "cell_type": "code",
   "source": [
    "%%file test_sqlite_fixture.py\n",
    "from KT3.sqlite_fixture import sqlite_fixture\n",
    "\n",
    "def test_sqlite_fixture(sqlite_fixture):\n",
    "    cursor = sqlite_fixture.cursor()\n",
    "    \n",
    "    cursor.execute(\"CREATE TABLE users (id INTEGER PRIMARY KEY, name TEXT)\")\n",
    "    sqlite_fixture.commit()\n",
    "    \n",
    "    cursor.execute(\"INSERT INTO users (name) VALUES ('sqlite_test')\")\n",
    "    sqlite_fixture.commit()\n",
    "    \n",
    "    cursor.execute(\"SELECT * FROM users\")\n",
    "    result = cursor.fetchall()\n",
    "\n",
    "    assert len(result) == 1"
   ],
   "id": "165298e63a767d33",
   "outputs": [
    {
     "name": "stdout",
     "output_type": "stream",
     "text": [
      "Overwriting test_sqlite_fixture.py\n"
     ]
    }
   ],
   "execution_count": 16
  },
  {
   "metadata": {
    "ExecuteTime": {
     "end_time": "2024-10-30T18:00:28.702269Z",
     "start_time": "2024-10-30T18:00:28.010046Z"
    }
   },
   "cell_type": "code",
   "source": "!pytest test_sqlite_fixture.py",
   "id": "bff838e3cbfaf905",
   "outputs": [
    {
     "name": "stdout",
     "output_type": "stream",
     "text": [
      "\u001B[1m============================= test session starts =============================\u001B[0m\n",
      "platform win32 -- Python 3.9.7, pytest-8.3.3, pluggy-1.5.0\n",
      "rootdir: C:\\Users\\acva0\\Projects\\PycharmProjects\\Pytesting\\KT3\n",
      "plugins: anyio-4.6.2.post1, cov-5.0.0, sugar-1.0.0\n",
      "collected 1 item\n",
      "\n",
      "test_sqlite_fixture.py \u001B[32m.\u001B[0m\u001B[32m                                                 [100%]\u001B[0m\n",
      "\n",
      "\u001B[32m============================== \u001B[32m\u001B[1m1 passed\u001B[0m\u001B[32m in 0.04s\u001B[0m\u001B[32m ==============================\u001B[0m\n"
     ]
    }
   ],
   "execution_count": 17
  },
  {
   "metadata": {
    "ExecuteTime": {
     "end_time": "2024-10-30T18:00:28.733896Z",
     "start_time": "2024-10-30T18:00:28.721693Z"
    }
   },
   "cell_type": "code",
   "source": "",
   "id": "32cb47ba8f6fcdff",
   "outputs": [],
   "execution_count": null
  }
 ],
 "metadata": {
  "kernelspec": {
   "display_name": "Python 3",
   "language": "python",
   "name": "python3"
  },
  "language_info": {
   "codemirror_mode": {
    "name": "ipython",
    "version": 2
   },
   "file_extension": ".py",
   "mimetype": "text/x-python",
   "name": "python",
   "nbconvert_exporter": "python",
   "pygments_lexer": "ipython2",
   "version": "2.7.6"
  }
 },
 "nbformat": 4,
 "nbformat_minor": 5
}
