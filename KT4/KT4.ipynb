{
 "cells": [
  {
   "metadata": {},
   "cell_type": "markdown",
   "source": "## Импорты",
   "id": "2b35afe3f1f53b13"
  },
  {
   "cell_type": "code",
   "id": "initial_id",
   "metadata": {
    "collapsed": true,
    "ExecuteTime": {
     "end_time": "2024-11-02T18:47:23.029754Z",
     "start_time": "2024-11-02T18:47:23.023215Z"
    }
   },
   "source": "import pytest",
   "outputs": [],
   "execution_count": 15
  },
  {
   "metadata": {},
   "cell_type": "markdown",
   "source": [
    "### Вариант 2\n",
    "1. А четное-ли число?"
   ],
   "id": "bdc82e8619778f85"
  },
  {
   "metadata": {
    "ExecuteTime": {
     "end_time": "2024-11-02T18:47:23.107564Z",
     "start_time": "2024-11-02T18:47:23.096061Z"
    }
   },
   "cell_type": "code",
   "source": [
    "%%file is_even.py\n",
    "\n",
    "def is_even(number):\n",
    "    if number % 2 == 0:\n",
    "        return True\n",
    "    else:\n",
    "        return False\n",
    "\n",
    "print(is_even(5))"
   ],
   "id": "ab0b3917f5b1d7a4",
   "outputs": [
    {
     "name": "stdout",
     "output_type": "stream",
     "text": [
      "Overwriting is_even.py\n"
     ]
    }
   ],
   "execution_count": 16
  },
  {
   "metadata": {
    "ExecuteTime": {
     "end_time": "2024-11-02T18:47:23.311683Z",
     "start_time": "2024-11-02T18:47:23.150965Z"
    }
   },
   "cell_type": "code",
   "source": "!python is_even.py",
   "id": "6bd3133d8a453346",
   "outputs": [
    {
     "name": "stdout",
     "output_type": "stream",
     "text": [
      "False\n"
     ]
    }
   ],
   "execution_count": 17
  },
  {
   "metadata": {},
   "cell_type": "markdown",
   "source": "### Тестим проверку четности числа",
   "id": "33ac22807f7a717"
  },
  {
   "metadata": {
    "ExecuteTime": {
     "end_time": "2024-11-02T18:49:30.086340Z",
     "start_time": "2024-11-02T18:49:30.077064Z"
    }
   },
   "cell_type": "code",
   "source": [
    "%%file test_is_even.py\n",
    "from KT4.is_even import is_even\n",
    "import pytest\n",
    "\n",
    "@pytest.mark.parametrize(\"number, expected\", [(2, True), (3, False), (4, True)])\n",
    "def test_is_even(number, expected):\n",
    "    assert is_even(number) == expected"
   ],
   "id": "250123a81c68dd17",
   "outputs": [
    {
     "name": "stdout",
     "output_type": "stream",
     "text": [
      "Overwriting test_is_even.py\n"
     ]
    }
   ],
   "execution_count": 34
  },
  {
   "metadata": {
    "ExecuteTime": {
     "end_time": "2024-11-02T18:49:31.817052Z",
     "start_time": "2024-11-02T18:49:31.093287Z"
    }
   },
   "cell_type": "code",
   "source": "!pytest test_is_even.py",
   "id": "a60c2e19b691da78",
   "outputs": [
    {
     "name": "stdout",
     "output_type": "stream",
     "text": [
      "\u001B[1m============================= test session starts =============================\u001B[0m\n",
      "platform win32 -- Python 3.9.7, pytest-8.3.3, pluggy-1.5.0\n",
      "rootdir: C:\\Users\\acva0\\Projects\\PycharmProjects\\Pytesting\\KT4\n",
      "plugins: anyio-4.6.2.post1, cov-5.0.0, sugar-1.0.0\n",
      "collected 3 items\n",
      "\n",
      "test_is_even.py \u001B[32m.\u001B[0m\u001B[32m.\u001B[0m\u001B[32m.\u001B[0m\u001B[32m                                                      [100%]\u001B[0m\n",
      "\n",
      "\u001B[32m============================== \u001B[32m\u001B[1m3 passed\u001B[0m\u001B[32m in 0.04s\u001B[0m\u001B[32m ==============================\u001B[0m\n"
     ]
    }
   ],
   "execution_count": 35
  },
  {
   "metadata": {},
   "cell_type": "markdown",
   "source": "### 2. Считаем площадь прямоугольника",
   "id": "93efa85272741c9a"
  },
  {
   "metadata": {
    "ExecuteTime": {
     "end_time": "2024-11-02T18:49:24.992220Z",
     "start_time": "2024-11-02T18:49:24.981025Z"
    }
   },
   "cell_type": "code",
   "source": [
    "%%file calculate_area.py\n",
    "\n",
    "def calculate_area(length, width):\n",
    "    return length * width\n",
    "\n",
    "print(calculate_area(4, 2))"
   ],
   "id": "dd41814b45aafdce",
   "outputs": [
    {
     "name": "stdout",
     "output_type": "stream",
     "text": [
      "Overwriting calculate_area.py\n"
     ]
    }
   ],
   "execution_count": 32
  },
  {
   "metadata": {
    "ExecuteTime": {
     "end_time": "2024-11-02T18:49:25.730142Z",
     "start_time": "2024-11-02T18:49:25.536280Z"
    }
   },
   "cell_type": "code",
   "source": "!python calculate_area.py",
   "id": "ebc99cfdd5e3a092",
   "outputs": [
    {
     "name": "stdout",
     "output_type": "stream",
     "text": [
      "8\n"
     ]
    }
   ],
   "execution_count": 33
  },
  {
   "metadata": {},
   "cell_type": "markdown",
   "source": "### Тестим подсчет площади прямоугольника ",
   "id": "515090010b2d3c2a"
  },
  {
   "metadata": {
    "ExecuteTime": {
     "end_time": "2024-11-02T18:49:21.541005Z",
     "start_time": "2024-11-02T18:49:21.525780Z"
    }
   },
   "cell_type": "code",
   "source": [
    "%%file test_calculate_area.py\n",
    "from KT4.calculate_area import calculate_area\n",
    "import pytest\n",
    "\n",
    "@pytest.mark.parametrize(\"length, width, expected\", [(2, 4, 8), (5, 3, 15), (15, 10, 150)])\n",
    "def test_calculate_area(length, width, expected):\n",
    "    assert calculate_area(length, width) == expected"
   ],
   "id": "9f976e3968aaaa78",
   "outputs": [
    {
     "name": "stdout",
     "output_type": "stream",
     "text": [
      "Overwriting test_calculate_area.py\n"
     ]
    }
   ],
   "execution_count": 30
  },
  {
   "metadata": {
    "ExecuteTime": {
     "end_time": "2024-11-02T18:49:22.478585Z",
     "start_time": "2024-11-02T18:49:21.756452Z"
    }
   },
   "cell_type": "code",
   "source": "!pytest test_calculate_area.py",
   "id": "7fe987fe9ff0b3cb",
   "outputs": [
    {
     "name": "stdout",
     "output_type": "stream",
     "text": [
      "\u001B[1m============================= test session starts =============================\u001B[0m\n",
      "platform win32 -- Python 3.9.7, pytest-8.3.3, pluggy-1.5.0\n",
      "rootdir: C:\\Users\\acva0\\Projects\\PycharmProjects\\Pytesting\\KT4\n",
      "plugins: anyio-4.6.2.post1, cov-5.0.0, sugar-1.0.0\n",
      "collected 3 items\n",
      "\n",
      "test_calculate_area.py \u001B[32m.\u001B[0m\u001B[32m.\u001B[0m\u001B[32m.\u001B[0m\u001B[32m                                               [100%]\u001B[0m\n",
      "\n",
      "\u001B[32m============================== \u001B[32m\u001B[1m3 passed\u001B[0m\u001B[32m in 0.05s\u001B[0m\u001B[32m ==============================\u001B[0m\n"
     ]
    }
   ],
   "execution_count": 31
  },
  {
   "metadata": {},
   "cell_type": "markdown",
   "source": "### 3. Какой это треугольник?",
   "id": "6c086848b71851cb"
  },
  {
   "metadata": {
    "ExecuteTime": {
     "end_time": "2024-11-02T19:16:45.203109Z",
     "start_time": "2024-11-02T19:16:45.192986Z"
    }
   },
   "cell_type": "code",
   "source": [
    "%%file classify_triangle.py\n",
    "\n",
    "def classify_triangle(a, b, c):\n",
    "    if a + b <= c or a + c <= b or b + c <= a:\n",
    "        return \"Подозрительный какой-то...\"\n",
    "    \n",
    "    if a == b == c:\n",
    "        return \"Равносторонний\"\n",
    "    elif a == b or a == c or b == c:\n",
    "        return \"Равнобедренный\"\n",
    "    else:\n",
    "        return \"Разносторонний\"\n",
    "\n",
    "print(classify_triangle(2, 4, 7))"
   ],
   "id": "c70446d361806184",
   "outputs": [
    {
     "name": "stdout",
     "output_type": "stream",
     "text": [
      "Overwriting classify_triangle.py\n"
     ]
    }
   ],
   "execution_count": 54
  },
  {
   "metadata": {
    "ExecuteTime": {
     "end_time": "2024-11-02T19:16:45.562427Z",
     "start_time": "2024-11-02T19:16:45.403315Z"
    }
   },
   "cell_type": "code",
   "source": "!python classify_triangle.py",
   "id": "6fbe40a2e6b9a3f8",
   "outputs": [
    {
     "name": "stdout",
     "output_type": "stream",
     "text": [
      "Подозрительный какой-то...\n"
     ]
    }
   ],
   "execution_count": 55
  },
  {
   "metadata": {},
   "cell_type": "markdown",
   "source": "### Тестим определение типа треугольника",
   "id": "2822cb0bb3be11e0"
  },
  {
   "metadata": {
    "ExecuteTime": {
     "end_time": "2024-11-02T19:19:51.276166Z",
     "start_time": "2024-11-02T19:19:51.257643Z"
    }
   },
   "cell_type": "code",
   "source": [
    "%%file test_classify_triangle.py\n",
    "from KT4.classify_triangle import classify_triangle\n",
    "import pytest\n",
    "\n",
    "@pytest.mark.parametrize(\"a, b, c, expected\", [(2, 2, 2, \"Равносторонний\"), (5, 5, 6, \"Равнобедренный\"), (4, 5, 6, \"Разносторонний\"), (11, 5, 5, \"Подозрительный какой-то...\")])\n",
    "def test_classify_triangle(a, b, c, expected):\n",
    "    assert classify_triangle(a, b, c) == expected"
   ],
   "id": "825831c49794eff4",
   "outputs": [
    {
     "name": "stdout",
     "output_type": "stream",
     "text": [
      "Overwriting test_classify_triangle.py\n"
     ]
    }
   ],
   "execution_count": 62
  },
  {
   "metadata": {
    "ExecuteTime": {
     "end_time": "2024-11-02T19:19:52.355729Z",
     "start_time": "2024-11-02T19:19:51.516968Z"
    }
   },
   "cell_type": "code",
   "source": "!pytest test_classify_triangle.py",
   "id": "8c5cbcd91c34c30c",
   "outputs": [
    {
     "name": "stdout",
     "output_type": "stream",
     "text": [
      "\u001B[1m============================= test session starts =============================\u001B[0m\n",
      "platform win32 -- Python 3.9.7, pytest-8.3.3, pluggy-1.5.0\n",
      "rootdir: C:\\Users\\acva0\\Projects\\PycharmProjects\\Pytesting\\KT4\n",
      "plugins: anyio-4.6.2.post1, cov-5.0.0, sugar-1.0.0\n",
      "collected 4 items\n",
      "\n",
      "test_classify_triangle.py \u001B[32m.\u001B[0m\u001B[32m.\u001B[0m\u001B[32m.\u001B[0m\u001B[32m.\u001B[0m\u001B[32m                                           [100%]\u001B[0m\n",
      "\n",
      "\u001B[32m============================== \u001B[32m\u001B[1m4 passed\u001B[0m\u001B[32m in 0.05s\u001B[0m\u001B[32m ==============================\u001B[0m\n"
     ]
    }
   ],
   "execution_count": 63
  },
  {
   "metadata": {},
   "cell_type": "code",
   "outputs": [],
   "execution_count": null,
   "source": "",
   "id": "f51ecdd712d3db8e"
  }
 ],
 "metadata": {
  "kernelspec": {
   "display_name": "Python 3",
   "language": "python",
   "name": "python3"
  },
  "language_info": {
   "codemirror_mode": {
    "name": "ipython",
    "version": 2
   },
   "file_extension": ".py",
   "mimetype": "text/x-python",
   "name": "python",
   "nbconvert_exporter": "python",
   "pygments_lexer": "ipython2",
   "version": "2.7.6"
  }
 },
 "nbformat": 4,
 "nbformat_minor": 5
}
