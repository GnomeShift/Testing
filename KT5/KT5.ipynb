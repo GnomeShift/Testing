{
 "cells": [
  {
   "metadata": {},
   "cell_type": "markdown",
   "source": "### 1. Тесты API",
   "id": "e33dcc4932d0ef2d"
  },
  {
   "cell_type": "code",
   "id": "initial_id",
   "metadata": {
    "collapsed": true,
    "ExecuteTime": {
     "end_time": "2024-11-11T20:15:18.177888Z",
     "start_time": "2024-11-11T20:15:18.151663Z"
    }
   },
   "source": [
    "%%file test_eight_requests.py\n",
    "import requests\n",
    "import pytest\n",
    "\n",
    "URL = \"https://petstore.swagger.io/v2\"\n",
    "HEADERS = {\"Content-Type\": \"application/json\"}\n",
    "\n",
    "@pytest.fixture\n",
    "def user_data():\n",
    "    return {\n",
    "        \"id\": 0,\n",
    "        \"username\": \"trust\",\n",
    "        \"firstName\": \"Trust\",\n",
    "        \"lastName\": \"Me\",\n",
    "        \"email\": \"mail@example.com\",\n",
    "        \"password\": \"123123\",\n",
    "        \"phone\": \"1234567890\",\n",
    "        \"userStatus\": 0\n",
    "    }\n",
    "\n",
    "@pytest.fixture\n",
    "def user_data_list():\n",
    "    return [{\n",
    "        \"id\": 1,\n",
    "        \"username\": \"trust\",\n",
    "        \"firstName\": \"Trust\",\n",
    "        \"lastName\": \"Me\",\n",
    "        \"email\": \"mail@example.com\",\n",
    "        \"password\": \"123123\",\n",
    "        \"phone\": \"1234567890\",\n",
    "        \"userStatus\": 0\n",
    "    },\n",
    "        {\n",
    "            \"id\": 2,\n",
    "        \"username\": \"trust2\",\n",
    "        \"firstName\": \"Don't Trust\",\n",
    "        \"lastName\": \"Me\",\n",
    "        \"email\": \"mail2@example.com\",\n",
    "        \"password\": \"123123\",\n",
    "        \"phone\": \"987654321\",\n",
    "        \"userStatus\": 1\n",
    "        }]\n",
    "\n",
    "@pytest.fixture\n",
    "def store_order():\n",
    "    return {\n",
    "        \"id\": 1,\n",
    "        \"petId\": 1,\n",
    "        \"quantity\": 1,\n",
    "        \"shipDate\": \"2024-11-11T16:55:59.437Z\",\n",
    "        \"status\": \"placed\",\n",
    "        \"complete\": True\n",
    "    }\n",
    "\n",
    "\n",
    "def test_user_create(user_data_list):\n",
    "    response = requests.post(f\"{URL}/user/createWithArray\", json=user_data_list, headers=HEADERS)\n",
    "    assert response.status_code == 200, f\"Код ответа POST-запроса на создание: {response.status_code}\"\n",
    "\n",
    "def test_user_login(user_data):\n",
    "    response = requests.get(f\"{URL}/user/login\", data={'username': user_data['username'], 'password': user_data['password']}, headers=HEADERS)\n",
    "    assert response.status_code == 200, f\"Код ответа GET-запроса на логин: {response.status_code}\"\n",
    "\n",
    "def test_user_update(user_data):\n",
    "    updated = user_data.copy()\n",
    "    updated['username'] = \"trustUpdated\"\n",
    "    response = requests.put(f\"{URL}/user/trust\", json=updated, headers=HEADERS)\n",
    "    assert response.status_code == 200, f\"Код ответа PUT-запроса на обновление: {response.status_code}\"\n",
    "\n",
    "def test_user_get(user_data):\n",
    "    response = requests.get(f\"{URL}/user/{user_data['username']}\", json={'username': user_data['username']}, headers=HEADERS)\n",
    "    assert response.status_code == 200, f\"Код ответа GET-запроса на получение: {response.status_code}\"\n",
    "\n",
    "def test_store_pet_inventory():\n",
    "    response = requests.get(f\"{URL}/store/inventory\", headers=HEADERS)\n",
    "    assert response.status_code == 200, f\"Код ответа GET-запроса на инвентарь: {response.status_code}\"\n",
    "\n",
    "def test_store_order(store_order):\n",
    "    response = requests.post(f\"{URL}/store/order\", json=store_order, headers=HEADERS)\n",
    "    assert response.status_code == 200, f\"Код ответа POST-запроса на размещение заказа: {response.status_code}\"\n",
    "    store_data = response.json()\n",
    "    assert store_data['id'] == store_order['id']\n",
    "\n",
    "def test_store_get_order(store_order):\n",
    "    response = requests.get(f\"{URL}/store/order/{store_order['id']}\", headers=HEADERS)\n",
    "    assert response.status_code == 200\n",
    "    store_data = response.json()\n",
    "    assert store_data['id'] == store_order['id']\n",
    "\n",
    "def test_store_delete_order(store_order):\n",
    "    response = requests.delete(f\"{URL}/store/order/{store_order['id']}\", headers=HEADERS)\n",
    "    assert response.status_code == 200\n",
    "    response = requests.get(f\"{URL}/store/order/{store_order['id']}\", headers=HEADERS)\n",
    "    assert response.status_code == 404"
   ],
   "outputs": [
    {
     "name": "stdout",
     "output_type": "stream",
     "text": [
      "Overwriting test_eight_requests.py\n"
     ]
    }
   ],
   "execution_count": 11
  },
  {
   "metadata": {
    "ExecuteTime": {
     "end_time": "2024-11-11T20:15:30.728954Z",
     "start_time": "2024-11-11T20:15:18.522818Z"
    }
   },
   "cell_type": "code",
   "source": "!pytest test_eight_requests.py",
   "id": "d673d4d2d3e8819f",
   "outputs": [
    {
     "name": "stdout",
     "output_type": "stream",
     "text": [
      "\u001B[1m============================= test session starts =============================\u001B[0m\n",
      "platform win32 -- Python 3.9.7, pytest-8.3.3, pluggy-1.5.0\n",
      "rootdir: C:\\Users\\acva0\\Projects\\PycharmProjects\\Pytesting\\KT5\n",
      "plugins: allure-pytest-2.13.5, anyio-4.6.2.post1, cov-5.0.0, sugar-1.0.0\n",
      "collected 8 items\n",
      "\n",
      "test_eight_requests.py \u001B[32m.\u001B[0m\u001B[32m.\u001B[0m\u001B[32m.\u001B[0m\u001B[32m.\u001B[0m\u001B[32m.\u001B[0m\u001B[32m.\u001B[0m\u001B[32m.\u001B[0m\u001B[32m.\u001B[0m\u001B[32m                                          [100%]\u001B[0m\n",
      "\n",
      "\u001B[32m============================= \u001B[32m\u001B[1m8 passed\u001B[0m\u001B[32m in 10.80s\u001B[0m\u001B[32m ==============================\u001B[0m\n"
     ]
    }
   ],
   "execution_count": 12
  },
  {
   "metadata": {},
   "cell_type": "markdown",
   "source": "### 2. Генерируем отчет Allure",
   "id": "647cca2749ef7067"
  },
  {
   "metadata": {
    "ExecuteTime": {
     "end_time": "2024-11-21T21:27:27.205154Z",
     "start_time": "2024-11-21T21:27:27.182508Z"
    }
   },
   "cell_type": "code",
   "source": [
    "%%file test_api_allure.py\n",
    "import requests\n",
    "import pytest\n",
    "import allure\n",
    "from allure import step\n",
    "\n",
    "URL = \"https://petstore.swagger.io/v2\"\n",
    "HEADERS = {\"Content-Type\": \"application/json\"}\n",
    "\n",
    "@pytest.fixture\n",
    "def user_data():\n",
    "    return {\n",
    "        \"id\": 0,\n",
    "        \"username\": \"trust\",\n",
    "        \"firstName\": \"Trust\",\n",
    "        \"lastName\": \"Me\",\n",
    "        \"email\": \"mail@example.com\",\n",
    "        \"password\": \"123123\",\n",
    "        \"phone\": \"1234567890\",\n",
    "        \"userStatus\": 0\n",
    "    }\n",
    "\n",
    "@pytest.fixture\n",
    "def user_data_list():\n",
    "    return [{\n",
    "        \"id\": 1,\n",
    "        \"username\": \"trust\",\n",
    "        \"firstName\": \"Trust\",\n",
    "        \"lastName\": \"Me\",\n",
    "        \"email\": \"mail@example.com\",\n",
    "        \"password\": \"123123\",\n",
    "        \"phone\": \"1234567890\",\n",
    "        \"userStatus\": 0\n",
    "    },\n",
    "        {\n",
    "            \"id\": 2,\n",
    "        \"username\": \"trust2\",\n",
    "        \"firstName\": \"Don't Trust\",\n",
    "        \"lastName\": \"Me\",\n",
    "        \"email\": \"mail2@example.com\",\n",
    "        \"password\": \"123123\",\n",
    "        \"phone\": \"987654321\",\n",
    "        \"userStatus\": 1\n",
    "        }]\n",
    "\n",
    "@pytest.fixture\n",
    "def store_order():\n",
    "    return {\n",
    "        \"id\": 1,\n",
    "        \"petId\": 1,\n",
    "        \"quantity\": 1,\n",
    "        \"shipDate\": \"2024-11-11T16:55:59.437Z\",\n",
    "        \"status\": \"placed\",\n",
    "        \"complete\": True\n",
    "    }\n",
    "\n",
    "@allure.suite(\"Создаем пользователя\")\n",
    "@allure.step(\"Создаем пользователя\")\n",
    "def test_user_create(user_data_list):\n",
    "    response = requests.post(f\"{URL}/user/createWithArray\", json=user_data_list, headers=HEADERS)\n",
    "    with step(\"Проверяем код ответа\"):\n",
    "        assert response.status_code == 200, f\"Код ответа POST-запроса на создание: {response.status_code}\"\n",
    "\n",
    "@allure.suite(\"Логинимся\")\n",
    "@allure.step(\"Логинимся\")\n",
    "def test_user_login(user_data):\n",
    "    response = requests.get(f\"{URL}/user/login\", data={'username': user_data['username'], 'password': user_data['password']}, headers=HEADERS)\n",
    "    with step(\"Проверяем код ответа\"):\n",
    "        assert response.status_code == 200, f\"Код ответа GET-запроса на логин: {response.status_code}\"\n",
    "\n",
    "@allure.suite(\"Обновляем логин пользователя\")\n",
    "@allure.step(\"Обновляем логин пользователя\")\n",
    "def test_user_update(user_data):\n",
    "    updated = user_data.copy()\n",
    "    updated['username'] = \"trustUpdated\"\n",
    "    response = requests.put(f\"{URL}/user/trust\", json=updated, headers=HEADERS)\n",
    "    with step(\"Проверяем код ответа\"):\n",
    "        assert response.status_code == 200, f\"Код ответа PUT-запроса на обновление: {response.status_code}\"\n",
    "\n",
    "@allure.suite(\"Ищем пользователя\")\n",
    "@allure.step(\"Ищем пользователя\")\n",
    "def test_user_get(user_data):\n",
    "    response = requests.get(f\"{URL}/user/{user_data['username']}\", json={'username': user_data['username']}, headers=HEADERS)\n",
    "    with step(\"Проверяем код ответа\"):\n",
    "        assert response.status_code == 200, f\"Код ответа GET-запроса на получение: {response.status_code}\"\n",
    "\n",
    "@allure.suite(\"Смотрим инвентарь\")\n",
    "@allure.step(\"Смотрим инвентарь\")\n",
    "def test_store_pet_inventory():\n",
    "    response = requests.get(f\"{URL}/store/inventory\", headers=HEADERS)\n",
    "    with step(\"Проверяем код ответа\"):\n",
    "        assert response.status_code == 200, f\"Код ответа GET-запроса на инвентарь: {response.status_code}\"\n",
    "\n",
    "@allure.suite(\"Размещаем заказ на питомца\")\n",
    "@allure.step(\"Размещаем заказ на питомца\")\n",
    "def test_store_order(store_order):\n",
    "    response = requests.post(f\"{URL}/store/order\", json=store_order, headers=HEADERS)\n",
    "    with step(\"Проверяем код ответа\"):\n",
    "        assert response.status_code == 200, f\"Код ответа POST-запроса на размещение заказа: {response.status_code}\"\n",
    "    with step(\"Проверяем ID заказа\"):\n",
    "        store_data = response.json()\n",
    "        assert store_data['id'] == store_order['id']\n",
    "\n",
    "@allure.suite(\"Ищем заказ\")\n",
    "@allure.step(\"Ищем заказ\")\n",
    "def test_store_get_order(store_order):\n",
    "    response = requests.get(f\"{URL}/store/order/{store_order['id']}\", headers=HEADERS)\n",
    "    with step(\"Проверяем код ответа\"):\n",
    "        assert response.status_code == 200\n",
    "    with step(\"Проверяем ID заказа\"):\n",
    "        store_data = response.json()\n",
    "        assert store_data['id'] == store_order['id']\n",
    "\n",
    "@allure.suite(\"Удаляем заказ\")\n",
    "@allure.step(\"Удаляем заказ\")\n",
    "def test_store_delete_order(store_order):\n",
    "    response = requests.delete(f\"{URL}/store/order/{store_order['id']}\", headers=HEADERS)\n",
    "    with step(\"Проверяем код ответа\"):\n",
    "        assert response.status_code == 200\n",
    "    with step(\"Проверяем код ответа\"):\n",
    "        response = requests.get(f\"{URL}/store/order/{store_order['id']}\", headers=HEADERS)\n",
    "        assert response.status_code == 404"
   ],
   "id": "6739497ba1eeaf1f",
   "outputs": [
    {
     "name": "stdout",
     "output_type": "stream",
     "text": [
      "Overwriting test_api_allure.py\n"
     ]
    }
   ],
   "execution_count": 18
  },
  {
   "metadata": {
    "ExecuteTime": {
     "end_time": "2024-11-21T21:29:41.644850Z",
     "start_time": "2024-11-21T21:29:32.361251Z"
    }
   },
   "cell_type": "code",
   "source": [
    "!pytest --alluredir=kt5-allure-report test_api_allure.py\n",
    "!allure generate kt5-allure-report -o kt5-allure-results --clean"
   ],
   "id": "f163ef13e2378d4",
   "outputs": [
    {
     "name": "stdout",
     "output_type": "stream",
     "text": [
      "\u001B[1m============================= test session starts =============================\u001B[0m\n",
      "platform win32 -- Python 3.9.7, pytest-8.3.3, pluggy-1.5.0\n",
      "rootdir: C:\\Users\\acva0\\Projects\\PycharmProjects\\Pytesting\\KT5\n",
      "plugins: allure-pytest-2.13.5, anyio-4.6.2.post1, cov-5.0.0, sugar-1.0.0\n",
      "collected 8 items\n",
      "\n",
      "test_api_allure.py \u001B[32m.\u001B[0m\u001B[32m.\u001B[0m\u001B[32m.\u001B[0m\u001B[32m.\u001B[0m\u001B[32m.\u001B[0m\u001B[32m.\u001B[0m\u001B[32m.\u001B[0m\u001B[32m.\u001B[0m\u001B[32m                                              [100%]\u001B[0m\n",
      "\n",
      "\u001B[32m============================== \u001B[32m\u001B[1m8 passed\u001B[0m\u001B[32m in 6.08s\u001B[0m\u001B[32m ==============================\u001B[0m\n",
      "Report successfully generated to kt5-allure-results\n"
     ]
    }
   ],
   "execution_count": 21
  },
  {
   "metadata": {},
   "cell_type": "code",
   "outputs": [],
   "execution_count": null,
   "source": "",
   "id": "faded247621e9ca1"
  }
 ],
 "metadata": {
  "kernelspec": {
   "display_name": "Python 3",
   "language": "python",
   "name": "python3"
  },
  "language_info": {
   "codemirror_mode": {
    "name": "ipython",
    "version": 2
   },
   "file_extension": ".py",
   "mimetype": "text/x-python",
   "name": "python",
   "nbconvert_exporter": "python",
   "pygments_lexer": "ipython2",
   "version": "2.7.6"
  }
 },
 "nbformat": 4,
 "nbformat_minor": 5
}
