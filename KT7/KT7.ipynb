{
 "cells": [
  {
   "metadata": {},
   "cell_type": "markdown",
   "source": "### Декорируем отчет Allure",
   "id": "eef48f3d4f32979a"
  },
  {
   "cell_type": "code",
   "id": "initial_id",
   "metadata": {
    "collapsed": true,
    "ExecuteTime": {
     "end_time": "2024-11-22T12:47:41.284102Z",
     "start_time": "2024-11-22T12:47:41.266545Z"
    }
   },
   "source": [
    "%%file test_api_decorators.py\n",
    "import requests\n",
    "import pytest\n",
    "import allure\n",
    "from allure import step\n",
    "\n",
    "URL = \"https://petstore.swagger.io/v2\"\n",
    "HEADERS = {\"Content-Type\": \"application/json\"}\n",
    "\n",
    "@pytest.fixture\n",
    "def user_data():\n",
    "    return {\n",
    "        \"id\": 0,\n",
    "        \"username\": \"trust\",\n",
    "        \"firstName\": \"Trust\",\n",
    "        \"lastName\": \"Me\",\n",
    "        \"email\": \"mail@example.com\",\n",
    "        \"password\": \"123123\",\n",
    "        \"phone\": \"1234567890\",\n",
    "        \"userStatus\": 0\n",
    "    }\n",
    "\n",
    "@pytest.fixture\n",
    "def user_data_list():\n",
    "    return [{\n",
    "        \"id\": 1,\n",
    "        \"username\": \"trust\",\n",
    "        \"firstName\": \"Trust\",\n",
    "        \"lastName\": \"Me\",\n",
    "        \"email\": \"mail@example.com\",\n",
    "        \"password\": \"123123\",\n",
    "        \"phone\": \"1234567890\",\n",
    "        \"userStatus\": 0\n",
    "    },\n",
    "        {\n",
    "            \"id\": 2,\n",
    "        \"username\": \"trust2\",\n",
    "        \"firstName\": \"Don't Trust\",\n",
    "        \"lastName\": \"Me\",\n",
    "        \"email\": \"mail2@example.com\",\n",
    "        \"password\": \"123123\",\n",
    "        \"phone\": \"987654321\",\n",
    "        \"userStatus\": 1\n",
    "        }]\n",
    "\n",
    "@pytest.fixture\n",
    "def store_order():\n",
    "    return {\n",
    "        \"id\": 1,\n",
    "        \"petId\": 1,\n",
    "        \"quantity\": 1,\n",
    "        \"shipDate\": \"2024-11-11T16:55:59.437Z\",\n",
    "        \"status\": \"placed\",\n",
    "        \"complete\": True\n",
    "    }\n",
    "\n",
    "@allure.feature(\"User\")\n",
    "@allure.story(\"Создаем пользователя (POST)\")\n",
    "def test_user_create(user_data_list):\n",
    "    response = requests.post(f\"{URL}/user/createWithArray\", json=user_data_list, headers=HEADERS)\n",
    "    with step(\"Проверяем код ответа\"):\n",
    "        assert response.status_code == 200, f\"Код ответа POST-запроса на создание: {response.status_code}\"\n",
    "\n",
    "@allure.feature(\"User\")\n",
    "@allure.story(\"Логинимся (GET)\")\n",
    "def test_user_login(user_data):\n",
    "    response = requests.get(f\"{URL}/user/login\", data={'username': user_data['username'], 'password': user_data['password']}, headers=HEADERS)\n",
    "    with step(\"Проверяем код ответа\"):\n",
    "        assert response.status_code == 200, f\"Код ответа GET-запроса на логин: {response.status_code}\"\n",
    "\n",
    "@allure.feature(\"User\")\n",
    "@allure.story(\"Обновляем логин пользователя (PUT)\")\n",
    "def test_user_update(user_data):\n",
    "    updated = user_data.copy()\n",
    "    updated['username'] = \"trustUpdated\"\n",
    "    response = requests.put(f\"{URL}/user/trust\", json=updated, headers=HEADERS)\n",
    "    with step(\"Проверяем код ответа\"):\n",
    "        assert response.status_code == 200, f\"Код ответа PUT-запроса на обновление: {response.status_code}\"\n",
    "\n",
    "@allure.feature(\"User\")\n",
    "@allure.story(\"Ищем пользователя (GET)\")\n",
    "def test_user_get(user_data):\n",
    "    response = requests.get(f\"{URL}/user/{user_data['username']}\", json={'username': user_data['username']}, headers=HEADERS)\n",
    "    with step(\"Проверяем код ответа\"):\n",
    "        assert response.status_code == 200, f\"Код ответа GET-запроса на получение: {response.status_code}\"\n",
    "\n",
    "@allure.feature(\"Store\")\n",
    "@allure.story(\"Смотрим инвентарь (GET)\")\n",
    "def test_store_pet_inventory():\n",
    "    response = requests.get(f\"{URL}/store/inventory\", headers=HEADERS)\n",
    "    with step(\"Проверяем код ответа\"):\n",
    "        assert response.status_code == 200, f\"Код ответа GET-запроса на инвентарь: {response.status_code}\"\n",
    "\n",
    "@allure.feature(\"Store\")\n",
    "@allure.story(\"Размещаем заказ на питомца (POST)\")\n",
    "def test_store_order(store_order):\n",
    "    response = requests.post(f\"{URL}/store/order\", json=store_order, headers=HEADERS)\n",
    "    with step(\"Проверяем код ответа\"):\n",
    "        assert response.status_code == 200, f\"Код ответа POST-запроса на размещение заказа: {response.status_code}\"\n",
    "    with step(\"Проверяем ID заказа\"):\n",
    "        store_data = response.json()\n",
    "        assert store_data['id'] == store_order['id'], f\"Заказ не разместился!!\"\n",
    "\n",
    "@allure.feature(\"Store\")\n",
    "@allure.story(\"Ищем заказ (GET)\")\n",
    "def test_store_get_order(store_order):\n",
    "    response = requests.get(f\"{URL}/store/order/{store_order['id']}\", headers=HEADERS)\n",
    "    with step(\"Проверяем код ответа\"):\n",
    "        assert response.status_code == 200, f\"Код ответа GET-запроса на поиск заказа: {response.status_code}\"\n",
    "    with step(\"Проверяем ID заказа\"):\n",
    "        store_data = response.json()\n",
    "        assert store_data['id'] == store_order['id'], f\"ID не совпадает!!\"\n",
    "\n",
    "@allure.feature(\"Store\")\n",
    "@allure.story(\"Удаляем заказ (POST)\")\n",
    "def test_store_delete_order(store_order):\n",
    "    response = requests.delete(f\"{URL}/store/order/{store_order['id']}\", headers=HEADERS)\n",
    "    with step(\"Проверяем код ответа\"):\n",
    "        assert response.status_code == 200, f\"Кот ответа POST-запроса на удаление заказа: {response.status_code}\"\n",
    "    with step(\"Проверяем код ответа\"):\n",
    "        response = requests.get(f\"{URL}/store/order/{store_order['id']}\", headers=HEADERS)\n",
    "        assert response.status_code == 404, f\"Заказ не удалился!!\""
   ],
   "outputs": [
    {
     "name": "stdout",
     "output_type": "stream",
     "text": [
      "Overwriting test_api_decorators.py\n"
     ]
    }
   ],
   "execution_count": 4
  },
  {
   "metadata": {
    "ExecuteTime": {
     "end_time": "2024-11-22T12:47:50.614236Z",
     "start_time": "2024-11-22T12:47:41.813318Z"
    }
   },
   "cell_type": "code",
   "source": [
    "!pytest --alluredir=kt7-allure-report test_api_decorators.py\n",
    "!allure generate kt7-allure-report -o kt7-allure-results --clean"
   ],
   "id": "30dca6f73c380194",
   "outputs": [
    {
     "name": "stdout",
     "output_type": "stream",
     "text": [
      "\u001B[1m============================= test session starts =============================\u001B[0m\n",
      "platform win32 -- Python 3.9.7, pytest-8.3.3, pluggy-1.5.0\n",
      "rootdir: C:\\Users\\acva0\\Projects\\PycharmProjects\\Pytesting\\KT7\n",
      "plugins: allure-pytest-2.13.5, anyio-4.6.2.post1, cov-5.0.0, sugar-1.0.0\n",
      "collected 8 items\n",
      "\n",
      "test_api_decorators.py \u001B[32m.\u001B[0m\u001B[32m.\u001B[0m\u001B[32m.\u001B[0m\u001B[32m.\u001B[0m\u001B[32m.\u001B[0m\u001B[32m.\u001B[0m\u001B[32m.\u001B[0m\u001B[32m.\u001B[0m\u001B[32m                                          [100%]\u001B[0m\n",
      "\n",
      "\u001B[32m============================== \u001B[32m\u001B[1m8 passed\u001B[0m\u001B[32m in 5.17s\u001B[0m\u001B[32m ==============================\u001B[0m\n",
      "Report successfully generated to kt7-allure-results\n"
     ]
    }
   ],
   "execution_count": 5
  },
  {
   "metadata": {},
   "cell_type": "code",
   "outputs": [],
   "execution_count": null,
   "source": "",
   "id": "397e5e13ff605d5d"
  }
 ],
 "metadata": {
  "kernelspec": {
   "display_name": "Python 3",
   "language": "python",
   "name": "python3"
  },
  "language_info": {
   "codemirror_mode": {
    "name": "ipython",
    "version": 2
   },
   "file_extension": ".py",
   "mimetype": "text/x-python",
   "name": "python",
   "nbconvert_exporter": "python",
   "pygments_lexer": "ipython2",
   "version": "2.7.6"
  }
 },
 "nbformat": 4,
 "nbformat_minor": 5
}
